{
 "cells": [
  {
   "cell_type": "markdown",
   "id": "0642c4bd",
   "metadata": {},
   "source": [
    "# 🛍️ 파이썬을 통해 내 소비패턴 분석(무신사 주문내역) \n",
    "이 프로젝트는 나의 무신사 주문내역(2020~2025) CSV 파일을 Python의 표준 csv 모듈과 데이터 분석 라이브러리 pandas를 사용해 불러오고 가공하여, 두 방법의 특징과 장단점을 비교 분석하는 것을 목표로 한다."
   ]
  },
  {
   "cell_type": "markdown",
   "id": "88c8e38c",
   "metadata": {},
   "source": [
    "## 📂 1. 데이터 불러오기"
   ]
  },
  {
   "cell_type": "code",
   "execution_count": 7,
   "id": "65a5aa5f",
   "metadata": {},
   "outputs": [
    {
     "name": "stdout",
     "output_type": "stream",
     "text": [
      "['주문일자', '상품명', '카테고리', '브랜드', '구매금액', '색상']\n"
     ]
    }
   ],
   "source": [
    "# 기본 모듈 사용\n",
    "import csv, os\n",
    "os.chdir(r'C:\\Users\\82109\\OneDrive\\바탕 화면\\컴공전과 준비')\n",
    "f = open('musinsa_orders.csv', 'r')\n",
    "mu = csv.reader(f)\n",
    "mu_list = []\n",
    "for i in mu:\n",
    "    del i[6:8]\n",
    "    mu_list.append(i) #csv형태의 파일을 불러와 가공하기좋은 리스트형으로 변환\n",
    "print(mu_list[0]) #헤더 출력\n",
    "    \n",
    "\n",
    "   \n",
    "\n",
    "\n",
    "\n",
    "\n"
   ]
  },
  {
   "cell_type": "markdown",
   "id": "5c2490fd",
   "metadata": {},
   "source": [
    "## 🧹 2. 데이터 전처리\n",
    "- 주문금액은 csv파일 내에서는 문자형으로 저장되지만, 주문금액에 대한 분석을 하기위해서는 이를 숫자형으로 변환해야한다. 이 작업을 데이터 전처리 단계에서 진행한다."
   ]
  },
  {
   "cell_type": "code",
   "execution_count": 27,
   "id": "44ba40de",
   "metadata": {},
   "outputs": [],
   "source": [
    "# 문자형 자료를 숫자형으로 바꾸기\n",
    "for i in mu_list:\n",
    "    for j in i:\n",
    "        try:\n",
    "            i[i.index(j)] = int(j.replace(',',''))\n",
    "        except:\n",
    "            pass\n",
    "   \n",
    "\n"
   ]
  },
  {
   "cell_type": "markdown",
   "id": "faa5fbf5",
   "metadata": {},
   "source": [
    "## 📊 3. csv모듈로 분석\n",
    "csv모듈을 통해 총 주문건수 및 금액을 연도별로 분석한다."
   ]
  },
  {
   "cell_type": "code",
   "execution_count": 9,
   "id": "545b9a37",
   "metadata": {},
   "outputs": [
    {
     "data": {
      "text/plain": [
       "92"
      ]
     },
     "execution_count": 9,
     "metadata": {},
     "output_type": "execute_result"
    }
   ],
   "source": [
    "# csv 모듈 이용\n",
    "\n",
    "#총 주문건수\n",
    "orders = len(mu_list) -1 #2020~2025 총 주문건수는 csv파일 전체 행 개수에서 헤더 행 하나를 뺀 개수이다.\n",
    "orders"
   ]
  },
  {
   "cell_type": "code",
   "execution_count": 29,
   "id": "3344999a-c769-4426-9236-452f59ae414b",
   "metadata": {},
   "outputs": [
    {
     "name": "stdout",
     "output_type": "stream",
     "text": [
      "[29500, 155000, 27216, 38634, 47200, 97720, 79380, 50430, 26540, 40460, 62100, 119210, 15610, 14220, 80520, 55663, 29211, 38171, 77430, 29438, 23890, 20448, 17977, 30921, 25555, 36304, 30921, 46905, 78705, 34440, 47524, 43575, 92650, 13500, 47740, 47400, 45082, 37006, 50967, 70150, 61471, 34100, 30225, 205161, 26628, 41705, 65912, 56430, 70623, 164450, 76303, 23715, 60790, 53634, 10272, 109049, 29250, 19184, 52772, 96492, 39200, 32775, 46084, 74472, 23989, 71725, 31321, 65016, 40131, 42745, 28606, 67620, 52268, 60669, 39000, 57318, 55273, 68335, 105774, 31027, 32928, 13066, 27222, 34900, 64884, 42457, 32508, 11067, 119000, 57738, 24704, 25955]\n"
     ]
    },
    {
     "data": {
      "text/plain": [
       "4763256"
      ]
     },
     "execution_count": 29,
     "metadata": {},
     "output_type": "execute_result"
    }
   ],
   "source": [
    "#총 주문금액\n",
    "orders_price = []\n",
    "for i in mu_list:\n",
    "    orders_price.append(i[4]) #구매금액만을 요소로하는 리스트 제작\n",
    "del(orders_price[0]) #합계 계산하기위해 첫째자리 제거\n",
    "print(orders_price)\n",
    "sum(orders_price)\n"
   ]
  },
  {
   "cell_type": "code",
   "execution_count": 30,
   "id": "c17f4515-13f7-429a-af1b-1f14ff84e42d",
   "metadata": {},
   "outputs": [
    {
     "name": "stdout",
     "output_type": "stream",
     "text": [
      "[['20250625', 29500], ['20250625', 155000], ['20250624', 27216], ['20250624', 38634], ['20250528', 47200], ['20250528', 97720], ['20250523', 79380], ['20250523', 50430], ['20250520', 26540], ['20250520', 40460], ['20250520', 62100], ['20250519', 119210], ['20250515', 15610], ['20250515', 14220], ['20250509', 80520]]\n",
      "15\n",
      "3\n",
      "25\n",
      "36\n",
      "5\n",
      "8\n",
      "883740\n",
      "123045\n",
      "1074324\n",
      "2164691\n",
      "139143\n",
      "378313\n"
     ]
    }
   ],
   "source": [
    "#연도별 주문건수 및 주문금액\n",
    "import re #연도별로 구분하기 위해 re 호출\n",
    "\n",
    "# 구분된 주문일자와 주문금액 삽입될 빈 리스트 생성\n",
    "year_price = []\n",
    "yp_2025 = []\n",
    "yp_2024 = []\n",
    "yp_2023 = []\n",
    "yp_2022 = []\n",
    "yp_2021 = []\n",
    "yp_2020 = []\n",
    "\n",
    "#전체 리스트에서 주문일자와 주문금액만 추출하여 새 리스트 만들기\n",
    "for i in mu_list:\n",
    "    year_price.append([i[0],i[4]])\n",
    "for i in year_price:\n",
    "    i[0] = str(i[0])\n",
    "\n",
    "\n",
    "#정규표현식을 통해 주문일자의 앞자리를 연도별로 구분해서 리스트에 담는 과정\n",
    "for i in year_price:\n",
    "    if re.match('2025', i[0]):\n",
    "        yp_2025.append(i)\n",
    "    elif re.match('2024',i[0]):\n",
    "        yp_2024.append(i)\n",
    "    elif re.match('2023', i[0]):\n",
    "        yp_2023.append(i)\n",
    "    elif re.match('2022', i[0]):\n",
    "        yp_2022.append(i)\n",
    "    elif re.match('2021',i[0]):\n",
    "        yp_2021.append(i)\n",
    "    elif re.match('2020',i[0]):\n",
    "        yp_2020.append(i)\n",
    "\n",
    "#각 변수에 주문일자와 주문금액이 연도별로 저장됨\n",
    "print(yp_2025)\n",
    "\n",
    "\n",
    "#각 리스트의 요소 개수가 곧 연도별 주문건수\n",
    "print(len(yp_2025),len(yp_2024),len(yp_2023),len(yp_2022),len(yp_2021),len(yp_2020), sep = '\\n')\n",
    "\n",
    "#각 리스트에서 주문금액의 합을 구하면 연도별로 주문금액을 구할 수 있음. 2025년과 2024년의 주문금액\n",
    "sum_2025 = 0\n",
    "sum_2024 = 0\n",
    "sum_2023 = 0\n",
    "sum_2022 = 0\n",
    "sum_2021 = 0\n",
    "sum_2020 = 0\n",
    "for i in yp_2025:\n",
    "    sum_2025 += i[1]\n",
    "for i in yp_2024:\n",
    "    sum_2024 += i[1]\n",
    "for i in yp_2023:\n",
    "    sum_2023 += i[1]\n",
    "for i in yp_2022:\n",
    "    sum_2022 += i[1]\n",
    "for i in yp_2021:\n",
    "    sum_2021 += i[1]\n",
    "for i in yp_2020:\n",
    "    sum_2020 += i[1]\n",
    "    \n",
    "\n",
    "print(sum_2025,sum_2024,sum_2023,sum_2022,sum_2021,sum_2020, sep = '\\n')\n",
    "    \n",
    "\n"
   ]
  },
  {
   "cell_type": "markdown",
   "id": "596e19f6",
   "metadata": {},
   "source": [
    "## 🐼 4. pandas로 분석\n",
    "앞서 csv모듈에서 했던 과정을 동일하게 수행한다. 이에 더하여 카테고리, 색상, 브랜드 별로 주문추이를 심층적으로 분석해본다."
   ]
  },
  {
   "cell_type": "markdown",
   "id": "2b69014c-3689-40f0-a02d-b7df52d78a60",
   "metadata": {},
   "source": [
    "## 4-1) csv 파일 불러와서 데이터프레임으로 만들기\n",
    "앞서 작업했던 'musinsa_orders.csv' 파일을 판다스를 통해 불러와서 가공을 위한 형태로 변환한다."
   ]
  },
  {
   "cell_type": "code",
   "execution_count": 3,
   "id": "39bd5c3e-6b8b-4c34-a9aa-65cd78dd5523",
   "metadata": {},
   "outputs": [
    {
     "data": {
      "text/html": [
       "<div>\n",
       "<style scoped>\n",
       "    .dataframe tbody tr th:only-of-type {\n",
       "        vertical-align: middle;\n",
       "    }\n",
       "\n",
       "    .dataframe tbody tr th {\n",
       "        vertical-align: top;\n",
       "    }\n",
       "\n",
       "    .dataframe thead th {\n",
       "        text-align: right;\n",
       "    }\n",
       "</style>\n",
       "<table border=\"1\" class=\"dataframe\">\n",
       "  <thead>\n",
       "    <tr style=\"text-align: right;\">\n",
       "      <th></th>\n",
       "      <th>주문일자</th>\n",
       "      <th>상품명</th>\n",
       "      <th>카테고리</th>\n",
       "      <th>브랜드</th>\n",
       "      <th>구매금액</th>\n",
       "      <th>색상</th>\n",
       "    </tr>\n",
       "  </thead>\n",
       "  <tbody>\n",
       "    <tr>\n",
       "      <th>0</th>\n",
       "      <td>20250625</td>\n",
       "      <td>버뮤다 팬츠</td>\n",
       "      <td>하의</td>\n",
       "      <td>피지컬 에듀케이션 디파트먼트</td>\n",
       "      <td>29500</td>\n",
       "      <td>black</td>\n",
       "    </tr>\n",
       "    <tr>\n",
       "      <th>1</th>\n",
       "      <td>20250625</td>\n",
       "      <td>구두</td>\n",
       "      <td>신발</td>\n",
       "      <td>킨치</td>\n",
       "      <td>155000</td>\n",
       "      <td>x</td>\n",
       "    </tr>\n",
       "    <tr>\n",
       "      <th>2</th>\n",
       "      <td>20250624</td>\n",
       "      <td>반팔티</td>\n",
       "      <td>상의</td>\n",
       "      <td>그레이버</td>\n",
       "      <td>27216</td>\n",
       "      <td>white</td>\n",
       "    </tr>\n",
       "    <tr>\n",
       "      <th>3</th>\n",
       "      <td>20250624</td>\n",
       "      <td>캡모자</td>\n",
       "      <td>모자</td>\n",
       "      <td>테켓</td>\n",
       "      <td>38634</td>\n",
       "      <td>x</td>\n",
       "    </tr>\n",
       "    <tr>\n",
       "      <th>4</th>\n",
       "      <td>20250528</td>\n",
       "      <td>반팔티</td>\n",
       "      <td>상의</td>\n",
       "      <td>나이스고스트클럽</td>\n",
       "      <td>47200</td>\n",
       "      <td>white</td>\n",
       "    </tr>\n",
       "  </tbody>\n",
       "</table>\n",
       "</div>"
      ],
      "text/plain": [
       "       주문일자     상품명 카테고리              브랜드    구매금액     색상\n",
       "0  20250625  버뮤다 팬츠   하의  피지컬 에듀케이션 디파트먼트   29500  black\n",
       "1  20250625      구두   신발               킨치  155000      x\n",
       "2  20250624     반팔티   상의             그레이버   27216  white\n",
       "3  20250624     캡모자   모자               테켓   38634      x\n",
       "4  20250528     반팔티   상의         나이스고스트클럽   47200  white"
      ]
     },
     "execution_count": 3,
     "metadata": {},
     "output_type": "execute_result"
    }
   ],
   "source": [
    "import pandas as pd #판다스 호출\n",
    "import re, os\n",
    "os.chdir(r'C:\\Users\\82109\\OneDrive\\바탕 화면\\컴공전과 준비') #csv파일이 있는 폴더로 이동\n",
    "df = pd.read_csv('musinsa_orders.csv', encoding = 'cp949', thousands = ',') #read_csv()통해 df에 csv파일을 가공하기쉬운 데이터프레임 형태로 변환하여 저장\n",
    "df.head() #변환 확인용 함수\n",
    "\n",
    "\n"
   ]
  },
  {
   "cell_type": "markdown",
   "id": "eca1501e-b223-405d-9189-1fa920bedfae",
   "metadata": {},
   "source": [
    "## 4-2) csv모듈로 수행했던 작업 동일하게 수행\n",
    "앞서 csv모듈로 총 주문건수 및 금액을 구했던 작업과 연도별로 나누어 분석했던 작업을 판다스를 통해 동일하게 수행해본다."
   ]
  },
  {
   "cell_type": "code",
   "execution_count": 5,
   "id": "97af3c26-06b8-4167-8a67-60d9c2763671",
   "metadata": {},
   "outputs": [
    {
     "name": "stdout",
     "output_type": "stream",
     "text": [
      "92\n",
      "4763256\n"
     ]
    }
   ],
   "source": [
    "#1 총 주문건수 및 금액 구하기\n",
    "\n",
    "print(len(df)) #총 주문건수\n",
    "print(df['구매금액'].sum()) #총 주문금액\n",
    "\n"
   ]
  },
  {
   "cell_type": "code",
   "execution_count": 4,
   "id": "64e77446-0858-410a-87ad-7ab02e5dd61e",
   "metadata": {},
   "outputs": [
    {
     "name": "stdout",
     "output_type": "stream",
     "text": [
      "15\n",
      "883740\n"
     ]
    },
    {
     "data": {
      "text/html": [
       "<div>\n",
       "<style scoped>\n",
       "    .dataframe tbody tr th:only-of-type {\n",
       "        vertical-align: middle;\n",
       "    }\n",
       "\n",
       "    .dataframe tbody tr th {\n",
       "        vertical-align: top;\n",
       "    }\n",
       "\n",
       "    .dataframe thead th {\n",
       "        text-align: right;\n",
       "    }\n",
       "</style>\n",
       "<table border=\"1\" class=\"dataframe\">\n",
       "  <thead>\n",
       "    <tr style=\"text-align: right;\">\n",
       "      <th></th>\n",
       "      <th>주문일자</th>\n",
       "      <th>구매금액</th>\n",
       "    </tr>\n",
       "  </thead>\n",
       "  <tbody>\n",
       "    <tr>\n",
       "      <th>0</th>\n",
       "      <td>20250625</td>\n",
       "      <td>29500</td>\n",
       "    </tr>\n",
       "    <tr>\n",
       "      <th>1</th>\n",
       "      <td>20250625</td>\n",
       "      <td>155000</td>\n",
       "    </tr>\n",
       "    <tr>\n",
       "      <th>2</th>\n",
       "      <td>20250624</td>\n",
       "      <td>27216</td>\n",
       "    </tr>\n",
       "    <tr>\n",
       "      <th>3</th>\n",
       "      <td>20250624</td>\n",
       "      <td>38634</td>\n",
       "    </tr>\n",
       "    <tr>\n",
       "      <th>4</th>\n",
       "      <td>20250528</td>\n",
       "      <td>47200</td>\n",
       "    </tr>\n",
       "    <tr>\n",
       "      <th>5</th>\n",
       "      <td>20250528</td>\n",
       "      <td>97720</td>\n",
       "    </tr>\n",
       "    <tr>\n",
       "      <th>6</th>\n",
       "      <td>20250523</td>\n",
       "      <td>79380</td>\n",
       "    </tr>\n",
       "    <tr>\n",
       "      <th>7</th>\n",
       "      <td>20250523</td>\n",
       "      <td>50430</td>\n",
       "    </tr>\n",
       "    <tr>\n",
       "      <th>8</th>\n",
       "      <td>20250520</td>\n",
       "      <td>26540</td>\n",
       "    </tr>\n",
       "    <tr>\n",
       "      <th>9</th>\n",
       "      <td>20250520</td>\n",
       "      <td>40460</td>\n",
       "    </tr>\n",
       "    <tr>\n",
       "      <th>10</th>\n",
       "      <td>20250520</td>\n",
       "      <td>62100</td>\n",
       "    </tr>\n",
       "    <tr>\n",
       "      <th>11</th>\n",
       "      <td>20250519</td>\n",
       "      <td>119210</td>\n",
       "    </tr>\n",
       "    <tr>\n",
       "      <th>12</th>\n",
       "      <td>20250515</td>\n",
       "      <td>15610</td>\n",
       "    </tr>\n",
       "    <tr>\n",
       "      <th>13</th>\n",
       "      <td>20250515</td>\n",
       "      <td>14220</td>\n",
       "    </tr>\n",
       "    <tr>\n",
       "      <th>14</th>\n",
       "      <td>20250509</td>\n",
       "      <td>80520</td>\n",
       "    </tr>\n",
       "  </tbody>\n",
       "</table>\n",
       "</div>"
      ],
      "text/plain": [
       "        주문일자    구매금액\n",
       "0   20250625   29500\n",
       "1   20250625  155000\n",
       "2   20250624   27216\n",
       "3   20250624   38634\n",
       "4   20250528   47200\n",
       "5   20250528   97720\n",
       "6   20250523   79380\n",
       "7   20250523   50430\n",
       "8   20250520   26540\n",
       "9   20250520   40460\n",
       "10  20250520   62100\n",
       "11  20250519  119210\n",
       "12  20250515   15610\n",
       "13  20250515   14220\n",
       "14  20250509   80520"
      ]
     },
     "execution_count": 4,
     "metadata": {},
     "output_type": "execute_result"
    }
   ],
   "source": [
    "#2 연도별 주문건수 및 주문금액 구하기\n",
    "#주문건수\n",
    "df['주문일자'] = df['주문일자'].astype(str) #주문일자를 연도별로 구분하여 추출하기위해 정수형보다 문자형으로 변환하는게 편리함\n",
    "new = df.loc[:, ('주문일자', '구매금액')] #주문일자와 주문금액만 따로 추출한 테이블을 new 변수에 저장\n",
    "\n",
    "con = new['주문일자'].str.contains('2025') # n년에 해당하는 값만 추출하기위한 조건식(str.contains()에 연도만 구분해서 입력해주면 각 연도별 값 추출 가능)\n",
    "print(len(new[con]), new[con]['구매금액'].sum(), sep = '\\n') #주문건수, 주문금액 각각 출력\n",
    "new[con]\n",
    "\n",
    "\n",
    "\n",
    "\n"
   ]
  },
  {
   "cell_type": "markdown",
   "id": "c07a507e",
   "metadata": {},
   "source": [
    "## 📈 5. 추가 분석\n",
    "상품, 카테고리, 색상, 브랜드 등을 토대로 내 소비패턴을 세부적으로 분석해본다."
   ]
  },
  {
   "cell_type": "code",
   "execution_count": 30,
   "id": "7c37353b",
   "metadata": {},
   "outputs": [
    {
     "name": "stdin",
     "output_type": "stream",
     "text": [
      "찾고자 하는 품목을 입력하세요:  니트\n"
     ]
    },
    {
     "name": "stdout",
     "output_type": "stream",
     "text": [
      "총 주문건수: 8 총 주문금액: 339934\n"
     ]
    },
    {
     "data": {
      "text/html": [
       "<div>\n",
       "<style scoped>\n",
       "    .dataframe tbody tr th:only-of-type {\n",
       "        vertical-align: middle;\n",
       "    }\n",
       "\n",
       "    .dataframe tbody tr th {\n",
       "        vertical-align: top;\n",
       "    }\n",
       "\n",
       "    .dataframe thead th {\n",
       "        text-align: right;\n",
       "    }\n",
       "</style>\n",
       "<table border=\"1\" class=\"dataframe\">\n",
       "  <thead>\n",
       "    <tr style=\"text-align: right;\">\n",
       "      <th></th>\n",
       "      <th>주문일자</th>\n",
       "      <th>상품명</th>\n",
       "      <th>카테고리</th>\n",
       "      <th>브랜드</th>\n",
       "      <th>구매금액</th>\n",
       "      <th>색상</th>\n",
       "    </tr>\n",
       "  </thead>\n",
       "  <tbody>\n",
       "    <tr>\n",
       "      <th>20</th>\n",
       "      <td>20230714</td>\n",
       "      <td>니트</td>\n",
       "      <td>상의</td>\n",
       "      <td>데이</td>\n",
       "      <td>23890</td>\n",
       "      <td>navy</td>\n",
       "    </tr>\n",
       "    <tr>\n",
       "      <th>25</th>\n",
       "      <td>20230509</td>\n",
       "      <td>니트</td>\n",
       "      <td>상의</td>\n",
       "      <td>니티드</td>\n",
       "      <td>36304</td>\n",
       "      <td>navy</td>\n",
       "    </tr>\n",
       "    <tr>\n",
       "      <th>34</th>\n",
       "      <td>20230222</td>\n",
       "      <td>니트</td>\n",
       "      <td>상의</td>\n",
       "      <td>엘무드</td>\n",
       "      <td>47740</td>\n",
       "      <td>oragne</td>\n",
       "    </tr>\n",
       "    <tr>\n",
       "      <th>45</th>\n",
       "      <td>20221214</td>\n",
       "      <td>니트</td>\n",
       "      <td>상의</td>\n",
       "      <td>드로우핏</td>\n",
       "      <td>41705</td>\n",
       "      <td>ivory</td>\n",
       "    </tr>\n",
       "    <tr>\n",
       "      <th>47</th>\n",
       "      <td>20221122</td>\n",
       "      <td>니트</td>\n",
       "      <td>상의</td>\n",
       "      <td>드로우핏</td>\n",
       "      <td>56430</td>\n",
       "      <td>navy</td>\n",
       "    </tr>\n",
       "    <tr>\n",
       "      <th>62</th>\n",
       "      <td>20220806</td>\n",
       "      <td>니트</td>\n",
       "      <td>상의</td>\n",
       "      <td>미나브</td>\n",
       "      <td>46084</td>\n",
       "      <td>blue</td>\n",
       "    </tr>\n",
       "    <tr>\n",
       "      <th>76</th>\n",
       "      <td>20220206</td>\n",
       "      <td>니트</td>\n",
       "      <td>상의</td>\n",
       "      <td>엘무드</td>\n",
       "      <td>55273</td>\n",
       "      <td>brown</td>\n",
       "    </tr>\n",
       "    <tr>\n",
       "      <th>86</th>\n",
       "      <td>20201218</td>\n",
       "      <td>니트</td>\n",
       "      <td>상의</td>\n",
       "      <td>테이크이지</td>\n",
       "      <td>32508</td>\n",
       "      <td>brown</td>\n",
       "    </tr>\n",
       "  </tbody>\n",
       "</table>\n",
       "</div>"
      ],
      "text/plain": [
       "        주문일자 상품명 카테고리    브랜드   구매금액      색상\n",
       "20  20230714  니트   상의     데이  23890    navy\n",
       "25  20230509  니트   상의    니티드  36304    navy\n",
       "34  20230222  니트   상의    엘무드  47740  oragne\n",
       "45  20221214  니트   상의   드로우핏  41705   ivory\n",
       "47  20221122  니트   상의   드로우핏  56430    navy\n",
       "62  20220806  니트   상의    미나브  46084    blue\n",
       "76  20220206  니트   상의    엘무드  55273   brown\n",
       "86  20201218  니트   상의  테이크이지  32508   brown"
      ]
     },
     "execution_count": 30,
     "metadata": {},
     "output_type": "execute_result"
    }
   ],
   "source": [
    "#상품명 입력하면 동일 상품 구매이력 모아주는 프로그램 개발\n",
    "def search_products():\n",
    "    pd = input('찾고자 하는 품목을 입력하세요: ')\n",
    "    con = (df['상품명'] == pd) #입력받은 상품명을 도메인값으로 가지는 열 찾는 조건\n",
    "    print('총 주문건수:',len(df[con]), '총 주문금액:',df[con]['구매금액'].sum())\n",
    "    return df[con]\n",
    "search_products()\n",
    "\n"
   ]
  },
  {
   "cell_type": "code",
   "execution_count": 36,
   "id": "c053aed4-0976-4c1d-b332-282a18f628d1",
   "metadata": {},
   "outputs": [
    {
     "name": "stdout",
     "output_type": "stream",
     "text": [
      "<최다 구매 브랜드 top3>\n",
      "Top1: 무신사 스탠다드\n",
      "Top2: 드로우핏\n",
      "Top3: 아웃스탠딩\n"
     ]
    }
   ],
   "source": [
    "#최다 구매 브랜드 top3\n",
    "counts_brand = df['브랜드'].value_counts() #value_counts()통해 각 도메인값의 빈도수 추출\n",
    "counts_brand #각 브랜드별 빈도수를 알 수 있다.\n",
    "print('<최다 구매 브랜드 top3>', 'Top1: 무신사 스탠다드', 'Top2: 드로우핏', 'Top3: 아웃스탠딩', sep = '\\n')\n"
   ]
  },
  {
   "cell_type": "code",
   "execution_count": 38,
   "id": "ec7c0f06-87c2-483e-b7ec-3566517666b6",
   "metadata": {},
   "outputs": [
    {
     "name": "stdout",
     "output_type": "stream",
     "text": [
      "색상\n",
      "x           23\n",
      "black       19\n",
      "white       10\n",
      "ivory        9\n",
      "blue         6\n",
      "beige        5\n",
      "navy         5\n",
      "brown        4\n",
      "charcoal     3\n",
      "grey         2\n",
      "indigo       2\n",
      "pink         1\n",
      "oragne       1\n",
      "gray         1\n",
      "green        1\n",
      "Name: count, dtype: int64\n",
      "<최다 구매 색상 top5>\n",
      "black\n",
      "white\n",
      "ivory\n",
      "blue\n",
      "beige\n"
     ]
    }
   ],
   "source": [
    "#최다 구매 색상 top5\n",
    "counts_color = df['색상'].value_counts()\n",
    "print(counts_color)\n",
    "print('<최다 구매 색상 top5>', 'black', 'white', 'ivory', 'blue', 'beige', sep = '\\n')"
   ]
  },
  {
   "cell_type": "markdown",
   "id": "c68b5e54-c58a-461f-8d50-ef866d9ae05f",
   "metadata": {},
   "source": [
    "## 📈 6. 데이터 시각화\n",
    "소비패턴을 한눈에 파악하기위해 맷플롯립을 통해서 시각화해본다."
   ]
  },
  {
   "cell_type": "code",
   "execution_count": 40,
   "id": "20c52cbf-3b3a-45f2-b505-84bd6fe6c91c",
   "metadata": {},
   "outputs": [
    {
     "data": {
      "image/png": "[encoded data removed]",
      "text/plain": [
       "<Figure size 640x480 with 1 Axes>"
      ]
     },
     "metadata": {},
     "output_type": "display_data"
    }
   ],
   "source": [
    "#연도에 따른 주문건수 및 금액을 한눈에 보기쉽게 그래프를 통해 시각화\n",
    "from matplotlib import pyplot as plt #맷플롯립 호출\n",
    "%matplotlib inline\n",
    "#x,y축 각각 연도와 주문건수로 설정하고 z에 구매금액을 리스트로 저장하여 텍스르로 추가한다\n",
    "x = [2020, 2021, 2022, 2023, 2024, 2025]\n",
    "y = [8, 5, 36, 25, 3, 15]\n",
    "z = ['378,313', '139,143', '2,164,691', '1074,324', '123,045', '883,740']\n",
    "\n",
    "plt.xlabel('year')\n",
    "plt.ylabel('orders_counts')\n",
    "plt.title('Musinsa_orders_prices from 2020 to 2025')\n",
    "plt.plot(x,y,'b')\n",
    "for i in range(len(x)):\n",
    "    plt.text(x[i], y[i], z[i], fontsize = 10) #구매금액을 각 그래프 점 주위에 텍스트로 표시\n",
    "plt.show()\n",
    "\n",
    "\n"
   ]
  },
  {
   "cell_type": "markdown",
   "id": "facbafb4-1f87-4c6d-b1cb-5a664ce596ac",
   "metadata": {},
   "source": [
    "## ✅ 7. 소비패턴 분석 및 결과 요약\n",
    "여러 수단으로 분석해본 소비패턴을 요약해서 정리해본다."
   ]
  },
  {
   "cell_type": "markdown",
   "id": "98e02409-6b96-41b6-9065-015a022679f9",
   "metadata": {},
   "source": [
    "✅ 무신사 소비 패턴 요약 (2020~2025)\n",
    "\n",
    "총 주문 건수: 92건\n",
    "\n",
    "총 주문 금액: 4,763,256원\n",
    "\n",
    "📌 1. 연도별 소비 패턴\n",
    "가장 많이 소비한 해: 2022년\n",
    "\n",
    "대학 입학으로 의류 구매 증가\n",
    "\n",
    "가장 적게 소비한 해: 2024년\n",
    "\n",
    "군복무로 의류 구매 감소\n",
    "\n",
    "📌 2. 가장 많이 구매한 상품군\n",
    "\n",
    "반팔티\n",
    "\n",
    "데님팬츠\n",
    "\n",
    "니트\n",
    "\n",
    "📌 3. 선호 브랜드 순위\n",
    "1️⃣ 무신사 스탠다드\n",
    "2️⃣ 드로우핏\n",
    "3️⃣ 아웃스탠딩\n",
    "\n",
    "📌 4. 선호 색상 순위\n",
    "1️⃣ 블랙\n",
    "2️⃣ 화이트\n",
    "3️⃣ 아이보리\n",
    "4️⃣ 블루\n",
    "\n",
    "\n"
   ]
  },
  {
   "cell_type": "markdown",
   "id": "232ab274-897c-4538-a7b1-b9ce78975f0d",
   "metadata": {},
   "source": [
    "## 📊 8. CSV 모듈 vs Pandas 모듈 비교 분석\n",
    "두 수단으로 작업을 해본 결과, 내가 느낀 각 수단의 특징과, 장단점을 정리해본다.\n",
    "\n",
    "\n",
    "### 1️⃣ 데이터 처리 방식\n",
    "\n",
    "* **CSV 모듈**: Python 표준 라이브러리로, 파일 입출력과 간단한 데이터 파싱에 적합하다. 행 단위로 데이터를 처리하며, 모든 데이터를 직접 순회하면서 가공해야 한다.\n",
    "* **Pandas**: DataFrame이라는 강력한 데이터 구조를 제공하여 대용량 데이터도 효율적으로 처리할 수 있다. 열 단위 연산, 필터링, 그룹화 등 고급 데이터 분석 기능을 간단한 코드로 실행할 수 있다.\n",
    "\n",
    "### 2️⃣ 코드의 가독성과 효율성\n",
    "\n",
    "* **CSV 모듈**: 간단한 데이터 읽기에는 충분하지만, 데이터 필터링, 집계 등을 하려면 반복문과 조건문을 직접 작성해야 하므로 코드가 길어지고 복잡해진다.\n",
    "* **Pandas**: 고급 메서드와 속성들이 잘 정리되어 있어 한두 줄의 코드로도 복잡한 연산을 수행할 수 있다. 가독성이 높고 유지보수가 쉽다.\n",
    "\n",
    "### 3️⃣ 데이터 타입과 변환\n",
    "\n",
    "* **CSV 모듈**: 읽어온 데이터는 문자열(str)로 처리되기 때문에, 숫자 연산이나 날짜 처리 등을 위해 매번 직접 형변환이 필요하다.\n",
    "* **Pandas**: 열 단위로 데이터 타입을 자동으로 추론하거나 쉽게 변환할 수 있다. 수치 연산, 날짜/시간 처리에 유리하다.\n",
    "\n",
    "### 4️⃣ 데이터 출력과 시각화\n",
    "\n",
    "* **CSV 모듈**: 표 형태 출력이 따로 지원되지 않아, print문으로 출력하거나 별도로 포맷을 만들어야 한다.\n",
    "* **Pandas**: DataFrame은 테이블 형태로 출력되어 데이터 상태를 한눈에 확인할 수 있다. 시각화 라이브러리(Matplotlib)와 연계하여 그래프 분석도 쉽게 확장 가능하다.\n",
    "\n",
    "### ✅ 정리\n",
    "\n",
    "* **CSV 모듈**은 파이썬 기본 기능만으로 가벼운 CSV 파일 입출력이나 단순 작업에 적합하다.\n",
    "* **Pandas**는 데이터 분석과 처리에 특화되어 있어, 큰 규모의 데이터셋을 빠르고 직관적으로 다룰 수 있다.\n",
    "\n",
    "따라서 간단한 파일 입출력에는 CSV 모듈이 적합하고, 데이터 가공·분석·시각화까지 고려한다면 Pandas가 훨씬 강력하고 생산적이다.\n",
    "\n",
    "\n",
    "\n",
    "\n"
   ]
  },
  {
   "cell_type": "markdown",
   "id": "625367a0-e0e4-4771-a486-de48588c3e5f",
   "metadata": {},
   "source": [
    "| 항목             | CSV 모듈                       | Pandas                                |\n",
    "| -------------- | ---------------------------- | ------------------------------------- |\n",
    "| **데이터 처리 방식**  | 파일 입출력과 간단한 파싱에 적합, 행 단위 처리  | DataFrame 제공, 열 단위 연산, 그룹화 등 고급 기능 지원 |\n",
    "| **코드 가독성·효율성** | 반복문과 조건문 직접 작성, 코드 길어짐       | 간결한 메서드 사용, 짧고 가독성 높은 코드              |\n",
    "| **데이터 타입과 변환** | 모든 데이터가 문자열로 처리됨, 형변환 수작업 필요 | 자동 타입 추론, 열 단위 타입 관리 가능               |\n",
    "| **데이터 출력·시각화** | 표 형태 출력 미지원, 출력 포맷 수동 제작     | 테이블 형태 출력, 시각화 라이브러리와 연계 용이           |\n",
    "| **종합 평가**      | 단순 입출력과 가벼운 파싱에 적합           | 데이터 가공·분석·시각화에 특화, 생산성 높음             |\n",
    "\n",
    "\n",
    "\n",
    "\n"
   ]
  }
 ],
 "metadata": {
  "kernelspec": {
   "display_name": "Python 3 (ipykernel)",
   "language": "python",
   "name": "python3"
  },
  "language_info": {
   "codemirror_mode": {
    "name": "ipython",
    "version": 3
   },
   "file_extension": ".py",
   "mimetype": "text/x-python",
   "name": "python",
   "nbconvert_exporter": "python",
   "pygments_lexer": "ipython3",
   "version": "3.13.5"
  }
 },
 "nbformat": 4,
 "nbformat_minor": 5
}
